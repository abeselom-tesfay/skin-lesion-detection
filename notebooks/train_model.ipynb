{
 "cells": [
  {
   "cell_type": "code",
   "execution_count": 2,
   "id": "b29d55ce-f380-465a-a1cc-f90280364a08",
   "metadata": {},
   "outputs": [],
   "source": [
    "# Imports"
   ]
  },
  {
   "cell_type": "code",
   "execution_count": 3,
   "id": "14b7e637-59f6-458c-966f-e9011855005d",
   "metadata": {},
   "outputs": [],
   "source": [
    "import sys, os\n",
    "project_root = os.path.abspath('..')\n",
    "if project_root not in sys.path:\n",
    "    sys.path.append(project_root)\n",
    "\n",
    "import numpy as np\n",
    "import matplotlib.pyplot as plt\n",
    "import seaborn as sns\n",
    "import tensorflow as tf\n",
    "\n",
    "from sklearn.metrics import confusion_matrix, classification_report\n",
    "from tensorflow.keras.callbacks import EarlyStopping, ModelCheckpoint, ReduceLROnPlateau, CSVLogger\n",
    "\n",
    "from src.utils.preprocess import get_data_generators, load_isic_data, compute_class_weights_from_names\n",
    "from src.model.model import build_model, compile_model, fine_tune_model"
   ]
  },
  {
   "cell_type": "code",
   "execution_count": 4,
   "id": "625cdbba-91cc-40a6-b937-ae98bf8f623e",
   "metadata": {},
   "outputs": [],
   "source": [
    "import warnings\n",
    "warnings.filterwarnings(\"ignore\", category=UserWarning, module=\"keras.src.trainers.data_adapters.py_dataset_adapter\")"
   ]
  },
  {
   "cell_type": "code",
   "execution_count": 5,
   "id": "ad046ab9-2582-4aea-a4d3-31f9de2a5bc0",
   "metadata": {},
   "outputs": [],
   "source": [
    "# Configuration variables"
   ]
  },
  {
   "cell_type": "code",
   "execution_count": 6,
   "id": "7daa87ab-7069-4d53-8dcf-a02990eb932e",
   "metadata": {},
   "outputs": [],
   "source": [
    "DATA_DIR = '../data/ISIC2018_Task3_Training_Input'\n",
    "CSV_FILE = '../data/ISIC2018_Task3_Training_GroundTruth.csv'\n",
    "IMG_SIZE = (224, 224)\n",
    "BATCH_SIZE = 32\n",
    "SEED = 42"
   ]
  },
  {
   "cell_type": "code",
   "execution_count": 7,
   "id": "f9169a2f-3381-49bb-9867-bed4aa6367c8",
   "metadata": {},
   "outputs": [],
   "source": [
    "# load & inspect dataset distribution"
   ]
  },
  {
   "cell_type": "code",
   "execution_count": 8,
   "id": "76ee4753-a589-4083-a850-f637ed8730f3",
   "metadata": {},
   "outputs": [
    {
     "name": "stdout",
     "output_type": "stream",
     "text": [
      "Classes: ['MEL', 'NV', 'BCC', 'AKIEC', 'BKL', 'DF', 'VASC']\n",
      "Total images: 10015\n"
     ]
    },
    {
     "data": {
      "image/png": "[encoded data removed]",
      "text/plain": [
       "<Figure size 1000x500 with 1 Axes>"
      ]
     },
     "metadata": {},
     "output_type": "display_data"
    }
   ],
   "source": [
    "image_paths, label_indices, label_names, class_names = load_isic_data(DATA_DIR, CSV_FILE)\n",
    "print(f'Classes: {class_names}')\n",
    "print(f'Total images: {len(image_paths)}')\n",
    "\n",
    "plt.figure(figsize=(10,5))\n",
    "sns.countplot(label_names)\n",
    "plt.xticks(rotation=45)\n",
    "plt.title('Class distribution')\n",
    "plt.show()"
   ]
  },
  {
   "cell_type": "code",
   "execution_count": 9,
   "id": "57005014-47d5-4836-bef0-08d99d441a00",
   "metadata": {},
   "outputs": [
    {
     "name": "stdout",
     "output_type": "stream",
     "text": [
      "Found 8012 validated image filenames belonging to 7 classes.\n",
      "Found 2003 validated image filenames belonging to 7 classes.\n"
     ]
    }
   ],
   "source": [
    "train_generator, val_generator, class_names = get_data_generators(\n",
    "    DATA_DIR, CSV_FILE, img_size=IMG_SIZE, batch_size=BATCH_SIZE, subset_frac=None, seed=SEED\n",
    ")"
   ]
  },
  {
   "cell_type": "code",
   "execution_count": 10,
   "id": "8f2052f3-3c53-4998-ad78-5b946d0ff981",
   "metadata": {},
   "outputs": [],
   "source": [
    "# check generator mapping"
   ]
  },
  {
   "cell_type": "code",
   "execution_count": 11,
   "id": "54e518f7-db00-46db-8677-9f28f92bb68d",
   "metadata": {},
   "outputs": [
    {
     "name": "stdout",
     "output_type": "stream",
     "text": [
      "Train class indices: {'0': 0, '1': 1, '2': 2, '3': 3, '4': 4, '5': 5, '6': 6}\n",
      "Train steps per epoch: 250\n",
      "Validation steps: 62\n"
     ]
    }
   ],
   "source": [
    "print('Train class indices:', train_generator.class_indices)\n",
    "print('Train steps per epoch:', train_generator.samples // BATCH_SIZE)\n",
    "print('Validation steps:', val_generator.samples // BATCH_SIZE)"
   ]
  },
  {
   "cell_type": "code",
   "execution_count": 12,
   "id": "1bd0a9f7-142a-4e65-89cc-668fa46eb5f0",
   "metadata": {},
   "outputs": [],
   "source": [
    "# Compute class weights using the fixed snippet"
   ]
  },
  {
   "cell_type": "code",
   "execution_count": 13,
   "id": "70015a9f-f912-4a4d-968c-756fcbe92ffd",
   "metadata": {},
   "outputs": [
    {
     "name": "stdout",
     "output_type": "stream",
     "text": [
      "Class weights: {0: 1.2860353130016051, 1: 0.21338020666879728, 2: 2.7848453249913105, 3: 4.368593238822246, 4: 1.3021290427433772, 5: 12.440993788819876, 6: 10.040100250626567}\n"
     ]
    }
   ],
   "source": [
    "inv_map = {v: k for k, v in train_generator.class_indices.items()}\n",
    "\n",
    "y_train_names = []\n",
    "steps_per_epoch = int(np.ceil(train_generator.samples / train_generator.batch_size))\n",
    "for i, (_, y_batch) in enumerate(train_generator):\n",
    "    indices = np.argmax(y_batch, axis=1)\n",
    "    y_train_names.extend([inv_map[i] for i in indices])\n",
    "    if i + 1 >= steps_per_epoch:\n",
    "        break\n",
    "y_train_names = y_train_names[:train_generator.samples]\n",
    "\n",
    "class_weights = compute_class_weights_from_names(y_train_names)\n",
    "print('Class weights:', class_weights)"
   ]
  },
  {
   "cell_type": "code",
   "execution_count": 14,
   "id": "d25777af-94ee-4f3e-b830-cd9b7cda5d80",
   "metadata": {},
   "outputs": [],
   "source": [
    "# Build & compile model "
   ]
  },
  {
   "cell_type": "code",
   "execution_count": 15,
   "id": "72c62a7c-25aa-4198-b3eb-b9d1edeb257f",
   "metadata": {
    "scrolled": true
   },
   "outputs": [
    {
     "data": {
      "text/html": [
       "<pre style=\"white-space:pre;overflow-x:auto;line-height:normal;font-family:Menlo,'DejaVu Sans Mono',consolas,'Courier New',monospace\"><span style=\"font-weight: bold\">Model: \"sequential\"</span>\n",
       "</pre>\n"
      ],
      "text/plain": [
       "\u001b[1mModel: \"sequential\"\u001b[0m\n"
      ]
     },
     "metadata": {},
     "output_type": "display_data"
    },
    {
     "data": {
      "text/html": [
       "<pre style=\"white-space:pre;overflow-x:auto;line-height:normal;font-family:Menlo,'DejaVu Sans Mono',consolas,'Courier New',monospace\">┏━━━━━━━━━━━━━━━━━━━━━━━━━━━━━━━━━━━━━━┳━━━━━━━━━━━━━━━━━━━━━━━━━━━━━┳━━━━━━━━━━━━━━━━━┓\n",
       "┃<span style=\"font-weight: bold\"> Layer (type)                         </span>┃<span style=\"font-weight: bold\"> Output Shape                </span>┃<span style=\"font-weight: bold\">         Param # </span>┃\n",
       "┡━━━━━━━━━━━━━━━━━━━━━━━━━━━━━━━━━━━━━━╇━━━━━━━━━━━━━━━━━━━━━━━━━━━━━╇━━━━━━━━━━━━━━━━━┩\n",
       "│ efficientnetb0 (<span style=\"color: #0087ff; text-decoration-color: #0087ff\">Functional</span>)          │ (<span style=\"color: #00d7ff; text-decoration-color: #00d7ff\">None</span>, <span style=\"color: #00af00; text-decoration-color: #00af00\">7</span>, <span style=\"color: #00af00; text-decoration-color: #00af00\">7</span>, <span style=\"color: #00af00; text-decoration-color: #00af00\">1280</span>)          │       <span style=\"color: #00af00; text-decoration-color: #00af00\">4,049,571</span> │\n",
       "├──────────────────────────────────────┼─────────────────────────────┼─────────────────┤\n",
       "│ global_average_pooling2d             │ (<span style=\"color: #00d7ff; text-decoration-color: #00d7ff\">None</span>, <span style=\"color: #00af00; text-decoration-color: #00af00\">1280</span>)                │               <span style=\"color: #00af00; text-decoration-color: #00af00\">0</span> │\n",
       "│ (<span style=\"color: #0087ff; text-decoration-color: #0087ff\">GlobalAveragePooling2D</span>)             │                             │                 │\n",
       "├──────────────────────────────────────┼─────────────────────────────┼─────────────────┤\n",
       "│ dense (<span style=\"color: #0087ff; text-decoration-color: #0087ff\">Dense</span>)                        │ (<span style=\"color: #00d7ff; text-decoration-color: #00d7ff\">None</span>, <span style=\"color: #00af00; text-decoration-color: #00af00\">128</span>)                 │         <span style=\"color: #00af00; text-decoration-color: #00af00\">163,968</span> │\n",
       "├──────────────────────────────────────┼─────────────────────────────┼─────────────────┤\n",
       "│ dropout (<span style=\"color: #0087ff; text-decoration-color: #0087ff\">Dropout</span>)                    │ (<span style=\"color: #00d7ff; text-decoration-color: #00d7ff\">None</span>, <span style=\"color: #00af00; text-decoration-color: #00af00\">128</span>)                 │               <span style=\"color: #00af00; text-decoration-color: #00af00\">0</span> │\n",
       "├──────────────────────────────────────┼─────────────────────────────┼─────────────────┤\n",
       "│ dense_1 (<span style=\"color: #0087ff; text-decoration-color: #0087ff\">Dense</span>)                      │ (<span style=\"color: #00d7ff; text-decoration-color: #00d7ff\">None</span>, <span style=\"color: #00af00; text-decoration-color: #00af00\">7</span>)                   │             <span style=\"color: #00af00; text-decoration-color: #00af00\">903</span> │\n",
       "└──────────────────────────────────────┴─────────────────────────────┴─────────────────┘\n",
       "</pre>\n"
      ],
      "text/plain": [
       "┏━━━━━━━━━━━━━━━━━━━━━━━━━━━━━━━━━━━━━━┳━━━━━━━━━━━━━━━━━━━━━━━━━━━━━┳━━━━━━━━━━━━━━━━━┓\n",
       "┃\u001b[1m \u001b[0m\u001b[1mLayer (type)                        \u001b[0m\u001b[1m \u001b[0m┃\u001b[1m \u001b[0m\u001b[1mOutput Shape               \u001b[0m\u001b[1m \u001b[0m┃\u001b[1m \u001b[0m\u001b[1m        Param #\u001b[0m\u001b[1m \u001b[0m┃\n",
       "┡━━━━━━━━━━━━━━━━━━━━━━━━━━━━━━━━━━━━━━╇━━━━━━━━━━━━━━━━━━━━━━━━━━━━━╇━━━━━━━━━━━━━━━━━┩\n",
       "│ efficientnetb0 (\u001b[38;5;33mFunctional\u001b[0m)          │ (\u001b[38;5;45mNone\u001b[0m, \u001b[38;5;34m7\u001b[0m, \u001b[38;5;34m7\u001b[0m, \u001b[38;5;34m1280\u001b[0m)          │       \u001b[38;5;34m4,049,571\u001b[0m │\n",
       "├──────────────────────────────────────┼─────────────────────────────┼─────────────────┤\n",
       "│ global_average_pooling2d             │ (\u001b[38;5;45mNone\u001b[0m, \u001b[38;5;34m1280\u001b[0m)                │               \u001b[38;5;34m0\u001b[0m │\n",
       "│ (\u001b[38;5;33mGlobalAveragePooling2D\u001b[0m)             │                             │                 │\n",
       "├──────────────────────────────────────┼─────────────────────────────┼─────────────────┤\n",
       "│ dense (\u001b[38;5;33mDense\u001b[0m)                        │ (\u001b[38;5;45mNone\u001b[0m, \u001b[38;5;34m128\u001b[0m)                 │         \u001b[38;5;34m163,968\u001b[0m │\n",
       "├──────────────────────────────────────┼─────────────────────────────┼─────────────────┤\n",
       "│ dropout (\u001b[38;5;33mDropout\u001b[0m)                    │ (\u001b[38;5;45mNone\u001b[0m, \u001b[38;5;34m128\u001b[0m)                 │               \u001b[38;5;34m0\u001b[0m │\n",
       "├──────────────────────────────────────┼─────────────────────────────┼─────────────────┤\n",
       "│ dense_1 (\u001b[38;5;33mDense\u001b[0m)                      │ (\u001b[38;5;45mNone\u001b[0m, \u001b[38;5;34m7\u001b[0m)                   │             \u001b[38;5;34m903\u001b[0m │\n",
       "└──────────────────────────────────────┴─────────────────────────────┴─────────────────┘\n"
      ]
     },
     "metadata": {},
     "output_type": "display_data"
    },
    {
     "data": {
      "text/html": [
       "<pre style=\"white-space:pre;overflow-x:auto;line-height:normal;font-family:Menlo,'DejaVu Sans Mono',consolas,'Courier New',monospace\"><span style=\"font-weight: bold\"> Total params: </span><span style=\"color: #00af00; text-decoration-color: #00af00\">4,214,442</span> (16.08 MB)\n",
       "</pre>\n"
      ],
      "text/plain": [
       "\u001b[1m Total params: \u001b[0m\u001b[38;5;34m4,214,442\u001b[0m (16.08 MB)\n"
      ]
     },
     "metadata": {},
     "output_type": "display_data"
    },
    {
     "data": {
      "text/html": [
       "<pre style=\"white-space:pre;overflow-x:auto;line-height:normal;font-family:Menlo,'DejaVu Sans Mono',consolas,'Courier New',monospace\"><span style=\"font-weight: bold\"> Trainable params: </span><span style=\"color: #00af00; text-decoration-color: #00af00\">164,871</span> (644.03 KB)\n",
       "</pre>\n"
      ],
      "text/plain": [
       "\u001b[1m Trainable params: \u001b[0m\u001b[38;5;34m164,871\u001b[0m (644.03 KB)\n"
      ]
     },
     "metadata": {},
     "output_type": "display_data"
    },
    {
     "data": {
      "text/html": [
       "<pre style=\"white-space:pre;overflow-x:auto;line-height:normal;font-family:Menlo,'DejaVu Sans Mono',consolas,'Courier New',monospace\"><span style=\"font-weight: bold\"> Non-trainable params: </span><span style=\"color: #00af00; text-decoration-color: #00af00\">4,049,571</span> (15.45 MB)\n",
       "</pre>\n"
      ],
      "text/plain": [
       "\u001b[1m Non-trainable params: \u001b[0m\u001b[38;5;34m4,049,571\u001b[0m (15.45 MB)\n"
      ]
     },
     "metadata": {},
     "output_type": "display_data"
    }
   ],
   "source": [
    "num_classes = len(class_names)\n",
    "model = build_model(num_classes=num_classes, input_shape=(IMG_SIZE[0], IMG_SIZE[1], 3), weights='imagenet')\n",
    "model = compile_model(model, learning_rate=1e-4)\n",
    "model.summary()"
   ]
  },
  {
   "cell_type": "code",
   "execution_count": 16,
   "id": "67e191b4-3df1-491e-a07f-d6be8b0faf5c",
   "metadata": {},
   "outputs": [],
   "source": [
    "# Callbacks "
   ]
  },
  {
   "cell_type": "code",
   "execution_count": 17,
   "id": "f4b5de7c-cff9-4ef4-86a3-e7d236ec5743",
   "metadata": {},
   "outputs": [],
   "source": [
    "ckpt_path = '../models/skin_lesion_model.keras'\n",
    "callbacks = [\n",
    "    EarlyStopping(monitor='val_loss', patience=8, restore_best_weights=True),\n",
    "    ModelCheckpoint(ckpt_path, monitor='val_loss', save_best_only=True, save_weights_only=False),\n",
    "    ReduceLROnPlateau(monitor='val_loss', factor=0.2, patience=4, min_lr=1e-7),\n",
    "    CSVLogger('../models/training_log.csv')\n",
    "]"
   ]
  },
  {
   "cell_type": "code",
   "execution_count": 18,
   "id": "34ab996a-3244-4b0f-b906-976523695d3c",
   "metadata": {},
   "outputs": [],
   "source": [
    "# Initial training (feature extraction)"
   ]
  },
  {
   "cell_type": "code",
   "execution_count": null,
   "id": "e4d3576f-a768-42a3-af76-af8942f92e33",
   "metadata": {},
   "outputs": [
    {
     "name": "stdout",
     "output_type": "stream",
     "text": [
      "Epoch 1/50\n",
      "\u001b[1m251/251\u001b[0m \u001b[32m━━━━━━━━━━━━━━━━━━━━\u001b[0m\u001b[37m\u001b[0m \u001b[1m681s\u001b[0m 3s/step - accuracy: 0.1569 - loss: 2.0522 - val_accuracy: 0.0325 - val_loss: 1.9447 - learning_rate: 1.0000e-04\n",
      "Epoch 2/50\n",
      "\u001b[1m251/251\u001b[0m \u001b[32m━━━━━━━━━━━━━━━━━━━━\u001b[0m\u001b[37m\u001b[0m \u001b[1m699s\u001b[0m 3s/step - accuracy: 0.1024 - loss: 1.9265 - val_accuracy: 0.1113 - val_loss: 1.9613 - learning_rate: 1.0000e-04\n",
      "Epoch 3/50\n",
      "\u001b[1m251/251\u001b[0m \u001b[32m━━━━━━━━━━━━━━━━━━━━\u001b[0m\u001b[37m\u001b[0m \u001b[1m637s\u001b[0m 3s/step - accuracy: 0.1460 - loss: 1.9674 - val_accuracy: 0.0325 - val_loss: 1.9275 - learning_rate: 1.0000e-04\n",
      "Epoch 4/50\n",
      "\u001b[1m251/251\u001b[0m \u001b[32m━━━━━━━━━━━━━━━━━━━━\u001b[0m\u001b[37m\u001b[0m \u001b[1m627s\u001b[0m 2s/step - accuracy: 0.0683 - loss: 1.9577 - val_accuracy: 0.1098 - val_loss: 1.9313 - learning_rate: 1.0000e-04\n",
      "Epoch 5/50\n",
      "\u001b[1m251/251\u001b[0m \u001b[32m━━━━━━━━━━━━━━━━━━━━\u001b[0m\u001b[37m\u001b[0m \u001b[1m602s\u001b[0m 2s/step - accuracy: 0.1162 - loss: 1.9178 - val_accuracy: 0.0514 - val_loss: 1.9468 - learning_rate: 1.0000e-04\n",
      "Epoch 6/50\n",
      "\u001b[1m177/251\u001b[0m \u001b[32m━━━━━━━━━━━━━━\u001b[0m\u001b[37m━━━━━━\u001b[0m \u001b[1m3:11\u001b[0m 3s/step - accuracy: 0.0492 - loss: 1.9891"
     ]
    }
   ],
   "source": [
    "history = model.fit(\n",
    "    train_generator,\n",
    "    validation_data=val_generator,\n",
    "    epochs=50,\n",
    "    class_weight=class_weights,\n",
    "    callbacks=callbacks\n",
    ")"
   ]
  },
  {
   "cell_type": "code",
   "execution_count": null,
   "id": "dc6dee4f-7f2c-44b7-97c6-0fa486d654e8",
   "metadata": {},
   "outputs": [],
   "source": [
    "# Fine-tuning: unfreeze last layers and continue training"
   ]
  },
  {
   "cell_type": "code",
   "execution_count": null,
   "id": "8d173188-491c-4268-9fd7-ee9aa36dfe28",
   "metadata": {},
   "outputs": [],
   "source": [
    "model = fine_tune_model(model, trainable_layers=30)\n",
    "model = compile_model(model, learning_rate=1e-5)\n",
    "\n",
    "history_fine = model.fit(\n",
    "    train_generator,\n",
    "    validation_data=val_generator,\n",
    "    epochs=60,\n",
    "    class_weight=class_weights,\n",
    "    callbacks=callbacks\n",
    ")"
   ]
  },
  {
   "cell_type": "code",
   "execution_count": null,
   "id": "05e3dae9-a043-4dd5-a677-26a7e331d33e",
   "metadata": {},
   "outputs": [],
   "source": [
    "# Evaluation on validation set"
   ]
  },
  {
   "cell_type": "code",
   "execution_count": null,
   "id": "148bc1d0-cb9f-4a0b-972a-823b890da820",
   "metadata": {},
   "outputs": [],
   "source": [
    "val_steps = int(np.ceil(val_generator.samples / BATCH_SIZE))\n",
    "val_preds = model.predict(val_generator, steps=val_steps)\n",
    "val_pred_indices = np.argmax(val_preds, axis=1)\n",
    "val_true = val_generator.classes\n",
    "\n",
    "index_to_class = {v: k for k, v in val_generator.class_indices.items()}\n",
    "ordered_class_names = [index_to_class[i] for i in range(len(index_to_class))]\n",
    "\n",
    "cm = confusion_matrix(val_true, val_pred_indices)\n",
    "plt.figure(figsize=(9,7))\n",
    "sns.heatmap(cm, annot=True, fmt='d', xticklabels=ordered_class_names, yticklabels=ordered_class_names, cmap='Blues')\n",
    "plt.xlabel('Predicted')\n",
    "plt.ylabel('True')\n",
    "plt.title('Confusion Matrix')\n",
    "plt.show()\n",
    "\n",
    "print(classification_report(val_true, val_pred_indices, target_names=ordered_class_names, zero_division=0))"
   ]
  },
  {
   "cell_type": "code",
   "execution_count": null,
   "id": "e747d8f6-aef3-4bb0-b7c6-3f9e6e6f2cb7",
   "metadata": {},
   "outputs": [],
   "source": [
    "# Plot training and validation curves"
   ]
  },
  {
   "cell_type": "code",
   "execution_count": null,
   "id": "14fb4d71-383a-47ed-867e-e87e0c6b6c6f",
   "metadata": {},
   "outputs": [],
   "source": [
    "def plot_history(h1, h2=None):\n",
    "    plt.figure(figsize=(12,4))\n",
    "    plt.subplot(1,2,1)\n",
    "    plt.plot(h1.history['accuracy'], label='train_acc')\n",
    "    plt.plot(h1.history['val_accuracy'], label='val_acc')\n",
    "    if h2 is not None:\n",
    "        plt.plot(h2.history.get('accuracy', []), label='fine_train_acc')\n",
    "        plt.plot(h2.history.get('val_accuracy', []), label='fine_val_acc')\n",
    "    plt.legend()\n",
    "    plt.title('Accuracy')\n",
    "    plt.subplot(1,2,2)\n",
    "    plt.plot(h1.history['loss'], label='train_loss')\n",
    "    plt.plot(h1.history['val_loss'], label='val_loss')\n",
    "    if h2 is not None:\n",
    "        plt.plot(h2.history.get('loss', []), label='fine_train_loss')\n",
    "        plt.plot(h2.history.get('val_loss', []), label='fine_val_loss')\n",
    "    plt.legend()\n",
    "    plt.title('Loss')\n",
    "    plt.show()\n",
    "\n",
    "plot_history(history, history_fine)"
   ]
  },
  {
   "cell_type": "code",
   "execution_count": null,
   "id": "7c2b1082-fc62-4861-b47e-6bfadca19a68",
   "metadata": {},
   "outputs": [],
   "source": []
  }
 ],
 "metadata": {
  "kernelspec": {
   "display_name": "Python [conda env:base] *",
   "language": "python",
   "name": "conda-base-py"
  },
  "language_info": {
   "codemirror_mode": {
    "name": "ipython",
    "version": 3
   },
   "file_extension": ".py",
   "mimetype": "text/x-python",
   "name": "python",
   "nbconvert_exporter": "python",
   "pygments_lexer": "ipython3",
   "version": "3.12.7"
  }
 },
 "nbformat": 4,
 "nbformat_minor": 5
}
