{
 "cells": [
  {
   "cell_type": "code",
   "execution_count": null,
   "id": "b29d55ce-f380-465a-a1cc-f90280364a08",
   "metadata": {},
   "outputs": [],
   "source": [
    "# Imports"
   ]
  },
  {
   "cell_type": "code",
   "execution_count": null,
   "id": "3ff8bdd3-1d1f-47fe-930f-c5f025f207e9",
   "metadata": {},
   "outputs": [],
   "source": [
    "import os\n",
    "import pandas as pd\n",
    "import numpy as np\n",
    "import tensorflow as tf\n",
    "import matplotlib.pyplot as plt\n",
    "import seaborn as sns\n",
    "from sklearn.metrics import confusion_matrix, classification_report\n",
    "from src.utils.preprocess import load_isic_data, get_data_generators, compute_class_weights\n",
    "from src.model.model import build_model, compile_model, fine_tune_model, get_gradcam_heatmap"
   ]
  },
  {
   "cell_type": "code",
   "execution_count": null,
   "id": "dd45c5b7-9d6c-4f61-8252-0fb8c6b4ca9c",
   "metadata": {},
   "outputs": [],
   "source": [
    "# Set paths"
   ]
  },
  {
   "cell_type": "code",
   "execution_count": null,
   "id": "d51da0ce-c12f-4c9b-86b4-e718298a8bce",
   "metadata": {},
   "outputs": [],
   "source": [
    "data_dir = 'data/ISIC2018_Task3_Training_Input'\n",
    "csv_file = 'data/ISIC2018_Task3_Training_GroundTruth.csv'"
   ]
  },
  {
   "cell_type": "code",
   "execution_count": null,
   "id": "655f4de7-16c2-4098-980e-cb412a879337",
   "metadata": {},
   "outputs": [],
   "source": [
    "# load data"
   ]
  },
  {
   "cell_type": "code",
   "execution_count": null,
   "id": "22f71fa3-3478-436f-8af7-7a774ef99318",
   "metadata": {},
   "outputs": [],
   "source": [
    "image_paths, labels, class_names = load_isic_data(data_dir, csv_file)\n",
    "print(f'Classes: {class_names}')\n",
    "print(f'Total images: {len(image_paths)}')"
   ]
  },
  {
   "cell_type": "code",
   "execution_count": null,
   "id": "074b99cb-de6c-447a-81db-2343cba42926",
   "metadata": {},
   "outputs": [],
   "source": [
    "# Plot class distribution"
   ]
  },
  {
   "cell_type": "code",
   "execution_count": null,
   "id": "ca891efd-cead-469e-99e1-dd6658ea6c8f",
   "metadata": {},
   "outputs": [],
   "source": [
    "plt.figure(figsize=(10, 6))\n",
    "sns.countplot(x=labels)\n",
    "plt.xticks(ticks=range(len(class_names)), labels=class_names, rotation=45)\n",
    "plt.title('Class Distribution')\n",
    "plt.show()"
   ]
  },
  {
   "cell_type": "code",
   "execution_count": null,
   "id": "218118c4-b89b-4369-8c42-40ca6524c787",
   "metadata": {},
   "outputs": [],
   "source": [
    "# Get data generators"
   ]
  },
  {
   "cell_type": "code",
   "execution_count": null,
   "id": "199c1a88-6bd8-4d17-b410-abb497ca5546",
   "metadata": {},
   "outputs": [],
   "source": [
    "train_generator, val_generator, class_names = get_data_generators(data_dir, csv_file)"
   ]
  },
  {
   "cell_type": "code",
   "execution_count": null,
   "id": "c80d7a82-9924-4d64-98cd-48583a8ef81c",
   "metadata": {},
   "outputs": [],
   "source": [
    "# Compute class weights"
   ]
  },
  {
   "cell_type": "code",
   "execution_count": null,
   "id": "76f08ce6-fd46-4a68-9519-224dc9910f6a",
   "metadata": {},
   "outputs": [],
   "source": [
    "class_weights = compute_class_weights(labels)"
   ]
  },
  {
   "cell_type": "code",
   "execution_count": null,
   "id": "3df407ae-0172-48f4-92a8-7615f9264e19",
   "metadata": {},
   "outputs": [],
   "source": [
    "# Build and compile model"
   ]
  },
  {
   "cell_type": "code",
   "execution_count": null,
   "id": "e91559cb-88de-4978-a6dd-3513b938e9bc",
   "metadata": {},
   "outputs": [],
   "source": [
    "model = build_model(num_classes=len(class_names))\n",
    "model = compile_model(model)\n",
    "model.summary()"
   ]
  },
  {
   "cell_type": "code",
   "execution_count": null,
   "id": "d8a9467f-425e-42ed-ab44-a69a085298c7",
   "metadata": {},
   "outputs": [],
   "source": [
    "# Train model"
   ]
  },
  {
   "cell_type": "code",
   "execution_count": null,
   "id": "431ff3be-946d-488a-a61d-95e557d75170",
   "metadata": {},
   "outputs": [],
   "source": [
    "callbacks = [\n",
    "    tf.keras.callbacks.EarlyStopping(patience=5, restore_best_weights=True),\n",
    "    tf.keras.callbacks.ModelCheckpoint('skin_lesion_model.h5', save_best_only=True)\n",
    "]\n",
    "\n",
    "history = model.fit(\n",
    "    train_generator,\n",
    "    validation_data=val_generator,\n",
    "    epochs=20,\n",
    "    class_weight=class_weights,\n",
    "    callbacks=callbacks\n",
    ")"
   ]
  },
  {
   "cell_type": "code",
   "execution_count": null,
   "id": "3de65512-91e0-425f-abe5-1b0b112fe473",
   "metadata": {},
   "outputs": [],
   "source": [
    "# Fine-tune model"
   ]
  },
  {
   "cell_type": "code",
   "execution_count": null,
   "id": "406a5742-e098-439c-b870-9eeacf52a453",
   "metadata": {},
   "outputs": [],
   "source": [
    "model = fine_tune_model(model, trainable_layers=10)\n",
    "model = compile_model(model, learning_rate=1e-5)\n",
    "history_fine = model.fit(\n",
    "    train_generator,\n",
    "    validation_data=val_generator,\n",
    "    epochs=10,\n",
    "    class_weight=class_weights,\n",
    "    callbacks=callbacks\n",
    ")"
   ]
  },
  {
   "cell_type": "code",
   "execution_count": null,
   "id": "7bbd13fe-5260-4d39-89a0-2b775978ee89",
   "metadata": {},
   "outputs": [],
   "source": [
    "# Evaluate model"
   ]
  },
  {
   "cell_type": "code",
   "execution_count": null,
   "id": "730a675c-f190-458a-acb8-4ef9f971f5e7",
   "metadata": {},
   "outputs": [],
   "source": [
    "val_preds = model.predict(val_generator)\n",
    "val_preds_classes = np.argmax(val_preds, axis=1)\n",
    "val_true = val_generator.classes"
   ]
  },
  {
   "cell_type": "code",
   "execution_count": null,
   "id": "70ee8dc5-cc3b-4027-a4da-abb3205f22ae",
   "metadata": {},
   "outputs": [],
   "source": [
    "# Confusion matrix"
   ]
  },
  {
   "cell_type": "code",
   "execution_count": null,
   "id": "95d5548b-b6c3-4493-8531-9930b87aa6e5",
   "metadata": {},
   "outputs": [],
   "source": [
    "cm = confusion_matrix(val_true, val_preds_classes)\n",
    "plt.figure(figsize=(10, 8))\n",
    "sns.heatmap(cm, annot=True, fmt='d', xticklabels=class_names, yticklabels=class_names)\n",
    "plt.title('Confusion Matrix')\n",
    "plt.show()"
   ]
  },
  {
   "cell_type": "code",
   "execution_count": null,
   "id": "9e9d55ec-9ad3-4e55-8b25-6f28e557fe71",
   "metadata": {},
   "outputs": [],
   "source": [
    "# Classification report\n",
    "print(classification_report(val_true, val_preds_classes, target_names=class_names))"
   ]
  },
  {
   "cell_type": "code",
   "execution_count": null,
   "id": "5d7c3937-961a-4f8c-a1ec-d86beaf19667",
   "metadata": {},
   "outputs": [],
   "source": [
    "# Plot training history"
   ]
  },
  {
   "cell_type": "code",
   "execution_count": null,
   "id": "c0e47382-5114-48f4-a3e1-310c4ae9ab41",
   "metadata": {},
   "outputs": [],
   "source": [
    "plt.figure(figsize=(12, 4))\n",
    "plt.subplot(1, 2, 1)\n",
    "plt.plot(history.history['accuracy'], label='Train Accuracy')\n",
    "plt.plot(history.history['val_accuracy'], label='Val Accuracy')\n",
    "plt.legend()\n",
    "plt.title('Accuracy')\n",
    "plt.subplot(1, 2, 2)\n",
    "plt.plot(history.history['loss'], label='Train Loss')\n",
    "plt.plot(history.history['val_loss'], label='Val Loss')\n",
    "plt.legend()\n",
    "plt.title('Loss')\n",
    "plt.show()"
   ]
  },
  {
   "cell_type": "code",
   "execution_count": null,
   "id": "453805d4-10ad-474b-bc04-707ffb89bb2f",
   "metadata": {},
   "outputs": [],
   "source": [
    "# Example Grad-CAM"
   ]
  },
  {
   "cell_type": "code",
   "execution_count": null,
   "id": "6b4bb276-eecc-42d7-8c4d-03a798547f15",
   "metadata": {},
   "outputs": [],
   "source": [
    "sample_img, _ = next(val_generator)\n",
    "heatmap = get_gradcam_heatmap(model, sample_img[:1])\n",
    "plt.imshow(sample_img[0])\n",
    "plt.imshow(heatmap, cmap='jet', alpha=0.5)\n",
    "plt.title('Grad-CAM Heatmap')\n",
    "plt.show()"
   ]
  }
 ],
 "metadata": {
  "kernelspec": {
   "display_name": "Python [conda env:base] *",
   "language": "python",
   "name": "conda-base-py"
  },
  "language_info": {
   "codemirror_mode": {
    "name": "ipython",
    "version": 3
   },
   "file_extension": ".py",
   "mimetype": "text/x-python",
   "name": "python",
   "nbconvert_exporter": "python",
   "pygments_lexer": "ipython3",
   "version": "3.12.7"
  }
 },
 "nbformat": 4,
 "nbformat_minor": 5
}
